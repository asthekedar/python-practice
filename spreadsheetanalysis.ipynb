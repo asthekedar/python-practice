{
 "cells": [
  {
   "cell_type": "markdown",
   "metadata": {},
   "source": [
    "# Analyse Sales Report"
   ]
  },
  {
   "cell_type": "code",
   "execution_count": 1,
   "metadata": {},
   "outputs": [
    {
     "name": "stdout",
     "output_type": "stream",
     "text": [
      "\n",
      "---------------------------------------------------------------------------\n",
      "TotalSales AverageSales TotalMonths MinSale MinSaleMonth MaxSale MaxSaleMonth\n",
      "\n",
      " [45542, 3795.1666666666665, 12, 1521, 'feb', 7479, 'dec']\n",
      "\n",
      "Above displayed Sales summary details updated to a file :\n",
      " /Users/amruta/python_local/pythonCFG/outputFiles/salesSummary.csv\n",
      "\n",
      "---------------------------------------------------------------------------\n"
     ]
    },
    {
     "data": {
      "image/png": "[encoded data removed]",
      "text/plain": [
       "<Figure size 432x288 with 1 Axes>"
      ]
     },
     "metadata": {
      "needs_background": "light"
     },
     "output_type": "display_data"
    }
   ],
   "source": [
    "import csv, os\n",
    "import matplotlib.pyplot as plt\n",
    "\n",
    "filePath = \"/Users/amruta/python_local/pythonCFG/\"\n",
    "\n",
    "def read_csvdata():\n",
    "    salesData = []\n",
    "    \n",
    "    with open(os.path.join(filePath,\"inputFiles/sales.csv\"),'r') as salesCsvFH:\n",
    "        resultSpreadsheet = csv.DictReader(salesCsvFH)\n",
    "        for row in resultSpreadsheet:\n",
    "            salesData.append(row)\n",
    "\n",
    "    return salesData\n",
    "\n",
    "def sales_calculation():\n",
    "    inputData =  read_csvdata()\n",
    "    salesList = []\n",
    "\n",
    "    for row in inputData:\n",
    "        salesData = int(row['sales'])     \n",
    "        salesList.append(salesData)\n",
    "    \n",
    "    totalSales = sum(salesList)\n",
    "    monthsCount = len(salesList)\n",
    "    avgSales = totalSales / monthsCount\n",
    "    minSales = min(salesList)\n",
    "    maxSales = max(salesList)\n",
    "    \n",
    "    for month in inputData:\n",
    "        if minSales == int(month['sales']):\n",
    "            minSaleMonth = month['month']\n",
    "        elif maxSales == int(month['sales']):\n",
    "            maxSaleMonth = row['month']\n",
    "        else:\n",
    "            exit\n",
    "    \n",
    "    return [totalSales, avgSales, monthsCount, minSales, minSaleMonth, maxSales, maxSaleMonth]\n",
    "    \n",
    "\n",
    "def month_sales_values():\n",
    "    monthAndSalesData =  read_csvdata()\n",
    "    monthAndSalesDict = {}\n",
    "    \n",
    "\n",
    "    for row in monthAndSalesData:\n",
    "        salesAndMonthData = {(row['month']):int(row['sales'])}  \n",
    "        monthAndSalesDict.update(salesAndMonthData)\n",
    "        \n",
    "    return monthAndSalesDict\n",
    "\n",
    "def sales_summary_to_file():\n",
    "    outputSales = sales_calculation()\n",
    "    header = ['TotalSales','AverageSales','TotalMonths','MinSale','MinSaleMonth','MaxSale','MaxSaleMonth']\n",
    "    \n",
    "\n",
    "    with open(os.path.join(filePath,\"outputFiles/salesSummary.csv\"),'w') as sendOutputFH:\n",
    "        writer = csv.writer(sendOutputFH)\n",
    "        writer.writerow(header)\n",
    "        writer.writerow(outputSales)\n",
    "        \n",
    "    print(\"\\n---------------------------------------------------------------------------\")\n",
    "    print('TotalSales AverageSales TotalMonths MinSale MinSaleMonth MaxSale MaxSaleMonth')\n",
    "    print(\"\\n\",outputSales)\n",
    "    print(\"\\nAbove displayed Sales summary details updated to a file :\\n {}\".format(os.path.join(filePath,\"outputFiles/salesSummary.csv\")))\n",
    "    print(\"\\n---------------------------------------------------------------------------\")\n",
    "        \n",
    "    return header\n",
    "        \n",
    "def sales_graph():\n",
    "    monthSalesDictVal = month_sales_values()\n",
    "    \n",
    "    for month,sale in monthSalesDictVal.items():\n",
    "        plt.bar(month,sale,align='center')\n",
    "        plt.suptitle('Monthly Sales Graph')\n",
    "        plt.xlabel(\"Month\")\n",
    "        plt.ylabel(\"Sales Value\")\n",
    "       \n",
    "    \n",
    "sales_summary_to_file()\n",
    "sales_graph()"
   ]
  },
  {
   "cell_type": "code",
   "execution_count": null,
   "metadata": {},
   "outputs": [],
   "source": []
  },
  {
   "cell_type": "markdown",
   "metadata": {},
   "source": []
  },
  {
   "cell_type": "code",
   "execution_count": null,
   "metadata": {},
   "outputs": [],
   "source": []
  }
 ],
 "metadata": {
  "kernelspec": {
   "display_name": "Python 3",
   "language": "python",
   "name": "python3"
  },
  "language_info": {
   "codemirror_mode": {
    "name": "ipython",
    "version": 3
   },
   "file_extension": ".py",
   "mimetype": "text/x-python",
   "name": "python",
   "nbconvert_exporter": "python",
   "pygments_lexer": "ipython3",
   "version": "3.7.4"
  }
 },
 "nbformat": 4,
 "nbformat_minor": 4
}
